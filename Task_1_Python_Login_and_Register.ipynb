{
  "nbformat": 4,
  "nbformat_minor": 0,
  "metadata": {
    "colab": {
      "provenance": []
    },
    "kernelspec": {
      "name": "python3",
      "display_name": "Python 3"
    },
    "language_info": {
      "name": "python"
    }
  },
  "cells": [
    {
      "cell_type": "code",
      "execution_count": null,
      "metadata": {
        "id": "W4Bg9EoBqgNI"
      },
      "outputs": [],
      "source": [
        "import re\n",
        "import os\n",
        "import csv\n",
        "\n",
        "#Creating a csv file for future use.\n",
        "f = open('users.csv','a')\n",
        "pass\n",
        "f.close()\n",
        "\n",
        "#To check if the email is valid.  \n",
        "def email_check(email):\n",
        "  regex = r'\\b[A-Za-z]+[0-9._%+-]+@[A-Za-z0-9.-]+\\.[A-Z|a-z]{2,}\\b'\n",
        "  if re.fullmatch(regex, email):\n",
        "    print('Email is valid.')\n",
        "    return True\n",
        "  else:\n",
        "    print('Email is invalid.')\n",
        "    return False\n",
        "\n",
        "#To check if the password is valid.\n",
        "def password_check(password):\n",
        "  regex = \"^(?=.*[a-z])(?=.*[A-Z])(?=.*\\d)(?=.*[@$!%*#?&])[A-Za-z\\d@$!#%*?&]{6,15}$\"\n",
        "  pattern = re.compile(regex) \n",
        "  if re.search(pattern, password):\n",
        "    print('Password is valid.')\n",
        "    return True\n",
        "  else:\n",
        "    print('Password is invalid.')\n",
        "    return False\n",
        "\n",
        "#User Registration\n",
        "def register():\n",
        "  with open('users.csv', mode = 'a', newline = '') as f:\n",
        "    writer = csv.writer(f, delimiter=',')\n",
        "    email = str(input('Enter Your Email : '))\n",
        "    password = str(input('Enter Your Password : '))\n",
        "    password2 = str(input('Please Enter Your Password Again: '))\n",
        "  \n",
        "    if password == password2:\n",
        "      check1 = email_check(email)\n",
        "      check2 = password_check(password)\n",
        "      if check1 and check2:\n",
        "        writer.writerow([email,password])\n",
        "        print('Registration is successful!')\n",
        "      else:\n",
        "        print('Please enter valid credentials.')\n",
        "    else:\n",
        "      print('Please make sure your password matches.')\n",
        "\n",
        "#User Login\n",
        "def login():\n",
        "  print('Please enter your login credentials.')\n",
        "  Email = str(input('Enter your email ID: '))\n",
        "  Password = str(input('Enter your password: '))\n",
        "  with open('users.csv', mode ='r') as f:\n",
        "    reader = csv.reader(f, delimiter=',')\n",
        "    for row in reader:\n",
        "      if row == [Email, Password]:\n",
        "        return('You are logged in!')\n",
        "        \n",
        "    print('Please try again! If you are a new user, please register.')\n",
        "    newUser = input('Are you a new user? y/n: ')\n",
        "    if newUser == 'y':\n",
        "      register()\n",
        "    else:\n",
        "      print('Please check your login credentials.')\n",
        "\n",
        "\n",
        "login()"
      ]
    }
  ]
}